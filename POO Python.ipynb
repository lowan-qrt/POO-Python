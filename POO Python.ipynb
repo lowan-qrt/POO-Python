{
 "cells": [
  {
   "cell_type": "markdown",
   "metadata": {},
   "source": [
    "# Programmation Orientée Objet en Python (POO)\n",
    "\n",
    "- __Définition__ : La _Programmation Orientée Objet_ en *Python* est une méthode de programmation où les données et les fonctions sont regroupées dans des `object`, créés à partir de `class`, pour permettre une meilleure organisation, réutilisation et modélisation des concepts.\n",
    "<hr>"
   ]
  },
  {
   "cell_type": "markdown",
   "metadata": {},
   "source": [
    "## __Exercice__ : Créer deux classes `Player` et `Ennemy`"
   ]
  },
  {
   "cell_type": "code",
   "execution_count": 31,
   "metadata": {},
   "outputs": [],
   "source": [
    "class Player:\n",
    "    def __init__(self, name, gender):\n",
    "        \"\"\"\n",
    "        Constructeur (__init__):\n",
    "        Méthode spéciale appelée lors de la création d'une nouvelle instance de la classe\n",
    "        \"\"\"\n",
    "        self.name = name # Attribut name : Stocke le nom du joueur.\n",
    "        self.gender = gender \n",
    "        self.health = 1500 # Attribut health : Stocke la vie du joueur\n",
    "        self.bag = ['knife', 'sword', 'arc', 'arrows']\n",
    "    \n",
    "    \n",
    "    def __str__(self):\n",
    "        \"\"\"\n",
    "        Méthode du double underscore, méthode \"magique\" : \n",
    "        Utilisée pour définir la représentation sous forme de chaîne de caractères\n",
    "        \"\"\"\n",
    "        return self.name, self.gender, self.health, self.bag\n",
    "\n",
    "    # \n",
    "    def identity(self):\n",
    "        \"\"\"\n",
    "        Méthode d'instance :\n",
    "        Une fonction définie à l'intérieur de la classe qui opère sur les attributs de l'objet.\n",
    "        \n",
    "        Montre l'identité du joueur.\n",
    "        \"\"\"\n",
    "        return (f'Name: {self.name}\\nGender: {self.gender}\\nHealth: {self.health}\\nBag: {self.bag}')\n",
    "\n",
    "class Enemy:\n",
    "    def __init__(self, name):\n",
    "        self.name = name\n",
    "        self.health = 1000\n",
    "        self.weapon = 'spear'\n",
    "        self.damage = 80\n",
    "    \n",
    "    def attack(self, player):\n",
    "        player.health -= self.damage"
   ]
  },
  {
   "cell_type": "markdown",
   "metadata": {},
   "source": [
    "## __Exercice__ : Créer deux objets `playerOne` et `enemyOne`"
   ]
  },
  {
   "cell_type": "code",
   "execution_count": 32,
   "metadata": {},
   "outputs": [],
   "source": [
    "playerOne = Player('Mario', 'male') # Création d'une instance de la class Player\n",
    "enemyOne = Enemy('Bowser') # Création d'une instance de la class Enemy"
   ]
  },
  {
   "cell_type": "markdown",
   "metadata": {},
   "source": [
    "## __Exercice__ : Utiliser les méthodes d'instance"
   ]
  },
  {
   "cell_type": "code",
   "execution_count": 33,
   "metadata": {},
   "outputs": [
    {
     "name": "stdout",
     "output_type": "stream",
     "text": [
      "Name: Mario\n",
      "Gender: male\n",
      "Health: 1500\n",
      "Bag: ['knife', 'sword', 'arc', 'arrows']\n",
      "Mario's life remaining after attack: 1420\n"
     ]
    }
   ],
   "source": [
    "# Appel d'une méthode d'instance\n",
    "print(Player.identity(playerOne))\n",
    "\n",
    "# Appel d'une méthode d'instance\n",
    "enemyOne.attack(playerOne)\n",
    "\n",
    "# Accès aux attributs de l'instance\n",
    "print(f\"{playerOne.name}'s life remaining after attack: {playerOne.health}\")"
   ]
  }
 ],
 "metadata": {
  "kernelspec": {
   "display_name": "Python 3",
   "language": "python",
   "name": "python3"
  },
  "language_info": {
   "codemirror_mode": {
    "name": "ipython",
    "version": 3
   },
   "file_extension": ".py",
   "mimetype": "text/x-python",
   "name": "python",
   "nbconvert_exporter": "python",
   "pygments_lexer": "ipython3",
   "version": "3.11.5"
  },
  "orig_nbformat": 4
 },
 "nbformat": 4,
 "nbformat_minor": 2
}
